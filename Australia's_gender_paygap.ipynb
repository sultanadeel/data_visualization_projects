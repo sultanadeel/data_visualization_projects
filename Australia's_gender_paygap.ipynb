{
 "cells": [
  {
   "cell_type": "markdown",
   "metadata": {},
   "source": [
    "<img src=\"https://mma.prnewswire.com/media/617186/Pearson_Logo.jpg\" width=\"400\" height=\"400\" align=\"center\"/>"
   ]
  },
  {
   "cell_type": "markdown",
   "metadata": {},
   "source": [
    "# Dataset: Australia’s Top 50 jobs pay Men significantly more than Women"
   ]
  },
  {
   "cell_type": "markdown",
   "metadata": {},
   "source": [
    "Source: https://onedrive.live.com/view.aspx?resid=43EBDBC5D5265516!10885&ithint=file%2cxlsx&app=Excel&authkey=!AGGJUekU_WokA3k\n",
    "        \n",
    "Source: http://www.makeovermonday.co.uk/data/         \n",
    "        \n",
    "Source: http://pandas.pydata.org/pandas-docs/stable/visualization.html\n",
    "\n",
    "Source: https://stackoverflow.com/\n",
    "          "
   ]
  },
  {
   "cell_type": "markdown",
   "metadata": {},
   "source": [
    "The Data Wrangling and Cleaning of the dataset \"Australia's Gender Gap in Salaries\" is part of the Project Deceptive Visualization, the dataset is taken from the Make over Monday website. The dataset has five columns Gender Rank, Gender, No.of Individuals and Average Taxable Income. It basically shows the salaries paid to men and women in different professional careers. The main claim in this exercise is that \n",
    "Men are paid significantly more than women in the top 50 jobs in Australia. However, our final objective in this project is to contradict our original claim that Men are paid significantly more than Women in Australia. We aspire to collect data from different sources and then merge that data with the existing dataset to further make visualization in Tableau"
   ]
  },
  {
   "cell_type": "markdown",
   "metadata": {},
   "source": [
    "# Importing the required Python packages and libraries for Data Wrangling"
   ]
  },
  {
   "cell_type": "code",
   "execution_count": 3,
   "metadata": {
    "collapsed": true
   },
   "outputs": [],
   "source": [
    "import pandas as pd\n",
    "import numpy as np\n",
    "import matplotlib\n",
    "import matplotlib.pyplot as plt\n",
    "import plotly\n",
    "import plotly.offline as py\n",
    "import plotly.graph_objs as go\n",
    "%matplotlib inline"
   ]
  },
  {
   "cell_type": "markdown",
   "metadata": {},
   "source": [
    "# Reading and Accessing the csv file saved on local Machine"
   ]
  },
  {
   "cell_type": "code",
   "execution_count": 4,
   "metadata": {
    "collapsed": true
   },
   "outputs": [],
   "source": [
    "df1 = pd.read_csv(r'AustralianGenderPayGap.csv',encoding='latin-1',thousands=',')"
   ]
  },
  {
   "cell_type": "markdown",
   "metadata": {},
   "source": [
    "# Analyzing the first & last 10 rows of our dataset"
   ]
  },
  {
   "cell_type": "code",
   "execution_count": 5,
   "metadata": {},
   "outputs": [
    {
     "data": {
      "text/html": [
       "<div>\n",
       "<style>\n",
       "    .dataframe thead tr:only-child th {\n",
       "        text-align: right;\n",
       "    }\n",
       "\n",
       "    .dataframe thead th {\n",
       "        text-align: left;\n",
       "    }\n",
       "\n",
       "    .dataframe tbody tr th {\n",
       "        vertical-align: top;\n",
       "    }\n",
       "</style>\n",
       "<table border=\"1\" class=\"dataframe\">\n",
       "  <thead>\n",
       "    <tr style=\"text-align: right;\">\n",
       "      <th></th>\n",
       "      <th>Gender Rank</th>\n",
       "      <th>Occupation</th>\n",
       "      <th>Gender</th>\n",
       "      <th>Individuals</th>\n",
       "      <th>Average Taxable Income $</th>\n",
       "      <th>Unnamed: 5</th>\n",
       "      <th>Unnamed: 6</th>\n",
       "      <th>Unnamed: 7</th>\n",
       "      <th>Unnamed: 8</th>\n",
       "    </tr>\n",
       "  </thead>\n",
       "  <tbody>\n",
       "    <tr>\n",
       "      <th>0</th>\n",
       "      <td>795</td>\n",
       "      <td>Abattoir process worker; Meat process worker; ...</td>\n",
       "      <td>Female</td>\n",
       "      <td>5961</td>\n",
       "      <td>36359</td>\n",
       "      <td>NaN</td>\n",
       "      <td>NaN</td>\n",
       "      <td>NaN</td>\n",
       "      <td>NaN</td>\n",
       "    </tr>\n",
       "    <tr>\n",
       "      <th>1</th>\n",
       "      <td>881</td>\n",
       "      <td>Abattoir process worker; Meat process worker; ...</td>\n",
       "      <td>Male</td>\n",
       "      <td>17241</td>\n",
       "      <td>40954</td>\n",
       "      <td>NaN</td>\n",
       "      <td>NaN</td>\n",
       "      <td>NaN</td>\n",
       "      <td>NaN</td>\n",
       "    </tr>\n",
       "    <tr>\n",
       "      <th>2</th>\n",
       "      <td>699</td>\n",
       "      <td>Aboriginal and Torres Strait Islander educatio...</td>\n",
       "      <td>Female</td>\n",
       "      <td>1386</td>\n",
       "      <td>40926</td>\n",
       "      <td>NaN</td>\n",
       "      <td>NaN</td>\n",
       "      <td>NaN</td>\n",
       "      <td>NaN</td>\n",
       "    </tr>\n",
       "    <tr>\n",
       "      <th>3</th>\n",
       "      <td>828</td>\n",
       "      <td>Aboriginal and Torres Strait Islander educatio...</td>\n",
       "      <td>Male</td>\n",
       "      <td>636</td>\n",
       "      <td>44077</td>\n",
       "      <td>NaN</td>\n",
       "      <td>NaN</td>\n",
       "      <td>NaN</td>\n",
       "      <td>NaN</td>\n",
       "    </tr>\n",
       "    <tr>\n",
       "      <th>4</th>\n",
       "      <td>641</td>\n",
       "      <td>Aboriginal and Torres Strait Islander health l...</td>\n",
       "      <td>Female</td>\n",
       "      <td>1878</td>\n",
       "      <td>43545</td>\n",
       "      <td>NaN</td>\n",
       "      <td>NaN</td>\n",
       "      <td>NaN</td>\n",
       "      <td>NaN</td>\n",
       "    </tr>\n",
       "  </tbody>\n",
       "</table>\n",
       "</div>"
      ],
      "text/plain": [
       "   Gender Rank                                         Occupation  Gender  \\\n",
       "0          795  Abattoir process worker; Meat process worker; ...  Female   \n",
       "1          881  Abattoir process worker; Meat process worker; ...    Male   \n",
       "2          699  Aboriginal and Torres Strait Islander educatio...  Female   \n",
       "3          828  Aboriginal and Torres Strait Islander educatio...    Male   \n",
       "4          641  Aboriginal and Torres Strait Islander health l...  Female   \n",
       "\n",
       "   Individuals  Average Taxable Income $  Unnamed: 5  Unnamed: 6  Unnamed: 7  \\\n",
       "0         5961                     36359         NaN         NaN         NaN   \n",
       "1        17241                     40954         NaN         NaN         NaN   \n",
       "2         1386                     40926         NaN         NaN         NaN   \n",
       "3          636                     44077         NaN         NaN         NaN   \n",
       "4         1878                     43545         NaN         NaN         NaN   \n",
       "\n",
       "   Unnamed: 8  \n",
       "0         NaN  \n",
       "1         NaN  \n",
       "2         NaN  \n",
       "3         NaN  \n",
       "4         NaN  "
      ]
     },
     "execution_count": 5,
     "metadata": {},
     "output_type": "execute_result"
    }
   ],
   "source": [
    "df1.head()"
   ]
  },
  {
   "cell_type": "code",
   "execution_count": 5,
   "metadata": {},
   "outputs": [
    {
     "data": {
      "text/html": [
       "<div>\n",
       "<style>\n",
       "    .dataframe thead tr:only-child th {\n",
       "        text-align: right;\n",
       "    }\n",
       "\n",
       "    .dataframe thead th {\n",
       "        text-align: left;\n",
       "    }\n",
       "\n",
       "    .dataframe tbody tr th {\n",
       "        vertical-align: top;\n",
       "    }\n",
       "</style>\n",
       "<table border=\"1\" class=\"dataframe\">\n",
       "  <thead>\n",
       "    <tr style=\"text-align: right;\">\n",
       "      <th></th>\n",
       "      <th>Gender Rank</th>\n",
       "      <th>Occupation</th>\n",
       "      <th>Gender</th>\n",
       "      <th>Individuals</th>\n",
       "      <th>Average Taxable Income $</th>\n",
       "      <th>Unnamed: 5</th>\n",
       "      <th>Unnamed: 6</th>\n",
       "      <th>Unnamed: 7</th>\n",
       "      <th>Unnamed: 8</th>\n",
       "    </tr>\n",
       "  </thead>\n",
       "  <tbody>\n",
       "    <tr>\n",
       "      <th>2192</th>\n",
       "      <td>664</td>\n",
       "      <td>Yarn carding and spinning machine operator</td>\n",
       "      <td>Male</td>\n",
       "      <td>59</td>\n",
       "      <td>53075</td>\n",
       "      <td>NaN</td>\n",
       "      <td>NaN</td>\n",
       "      <td>NaN</td>\n",
       "      <td>NaN</td>\n",
       "    </tr>\n",
       "    <tr>\n",
       "      <th>2193</th>\n",
       "      <td>705</td>\n",
       "      <td>Youth worker</td>\n",
       "      <td>Female</td>\n",
       "      <td>8214</td>\n",
       "      <td>40804</td>\n",
       "      <td>NaN</td>\n",
       "      <td>NaN</td>\n",
       "      <td>NaN</td>\n",
       "      <td>NaN</td>\n",
       "    </tr>\n",
       "    <tr>\n",
       "      <th>2194</th>\n",
       "      <td>792</td>\n",
       "      <td>Youth worker</td>\n",
       "      <td>Male</td>\n",
       "      <td>5985</td>\n",
       "      <td>46328</td>\n",
       "      <td>NaN</td>\n",
       "      <td>NaN</td>\n",
       "      <td>NaN</td>\n",
       "      <td>NaN</td>\n",
       "    </tr>\n",
       "    <tr>\n",
       "      <th>2195</th>\n",
       "      <td>673</td>\n",
       "      <td>Zookeeper</td>\n",
       "      <td>Female</td>\n",
       "      <td>627</td>\n",
       "      <td>41988</td>\n",
       "      <td>NaN</td>\n",
       "      <td>NaN</td>\n",
       "      <td>NaN</td>\n",
       "      <td>NaN</td>\n",
       "    </tr>\n",
       "    <tr>\n",
       "      <th>2196</th>\n",
       "      <td>757</td>\n",
       "      <td>Zookeeper</td>\n",
       "      <td>Male</td>\n",
       "      <td>370</td>\n",
       "      <td>47905</td>\n",
       "      <td>NaN</td>\n",
       "      <td>NaN</td>\n",
       "      <td>NaN</td>\n",
       "      <td>NaN</td>\n",
       "    </tr>\n",
       "  </tbody>\n",
       "</table>\n",
       "</div>"
      ],
      "text/plain": [
       "      Gender Rank                                  Occupation  Gender  \\\n",
       "2192          664  Yarn carding and spinning machine operator    Male   \n",
       "2193          705                                Youth worker  Female   \n",
       "2194          792                                Youth worker    Male   \n",
       "2195          673                                   Zookeeper  Female   \n",
       "2196          757                                   Zookeeper    Male   \n",
       "\n",
       "      Individuals  Average Taxable Income $  Unnamed: 5  Unnamed: 6  \\\n",
       "2192           59                     53075         NaN         NaN   \n",
       "2193         8214                     40804         NaN         NaN   \n",
       "2194         5985                     46328         NaN         NaN   \n",
       "2195          627                     41988         NaN         NaN   \n",
       "2196          370                     47905         NaN         NaN   \n",
       "\n",
       "      Unnamed: 7  Unnamed: 8  \n",
       "2192         NaN         NaN  \n",
       "2193         NaN         NaN  \n",
       "2194         NaN         NaN  \n",
       "2195         NaN         NaN  \n",
       "2196         NaN         NaN  "
      ]
     },
     "execution_count": 5,
     "metadata": {},
     "output_type": "execute_result"
    }
   ],
   "source": [
    "df1.tail()"
   ]
  },
  {
   "cell_type": "markdown",
   "metadata": {},
   "source": [
    "# Dropping the Unnamed and Empty Columns in the dataset"
   ]
  },
  {
   "cell_type": "code",
   "execution_count": 6,
   "metadata": {
    "collapsed": true
   },
   "outputs": [],
   "source": [
    "df1.drop([col for col in df1.columns if \"Unnamed\" in col], axis=1, inplace=True)"
   ]
  },
  {
   "cell_type": "code",
   "execution_count": 7,
   "metadata": {},
   "outputs": [
    {
     "data": {
      "text/html": [
       "<div>\n",
       "<style>\n",
       "    .dataframe thead tr:only-child th {\n",
       "        text-align: right;\n",
       "    }\n",
       "\n",
       "    .dataframe thead th {\n",
       "        text-align: left;\n",
       "    }\n",
       "\n",
       "    .dataframe tbody tr th {\n",
       "        vertical-align: top;\n",
       "    }\n",
       "</style>\n",
       "<table border=\"1\" class=\"dataframe\">\n",
       "  <thead>\n",
       "    <tr style=\"text-align: right;\">\n",
       "      <th></th>\n",
       "      <th>Gender Rank</th>\n",
       "      <th>Occupation</th>\n",
       "      <th>Gender</th>\n",
       "      <th>Individuals</th>\n",
       "      <th>Average Taxable Income $</th>\n",
       "    </tr>\n",
       "  </thead>\n",
       "  <tbody>\n",
       "    <tr>\n",
       "      <th>0</th>\n",
       "      <td>795</td>\n",
       "      <td>Abattoir process worker; Meat process worker; ...</td>\n",
       "      <td>Female</td>\n",
       "      <td>5961</td>\n",
       "      <td>36359</td>\n",
       "    </tr>\n",
       "    <tr>\n",
       "      <th>1</th>\n",
       "      <td>881</td>\n",
       "      <td>Abattoir process worker; Meat process worker; ...</td>\n",
       "      <td>Male</td>\n",
       "      <td>17241</td>\n",
       "      <td>40954</td>\n",
       "    </tr>\n",
       "    <tr>\n",
       "      <th>2</th>\n",
       "      <td>699</td>\n",
       "      <td>Aboriginal and Torres Strait Islander educatio...</td>\n",
       "      <td>Female</td>\n",
       "      <td>1386</td>\n",
       "      <td>40926</td>\n",
       "    </tr>\n",
       "    <tr>\n",
       "      <th>3</th>\n",
       "      <td>828</td>\n",
       "      <td>Aboriginal and Torres Strait Islander educatio...</td>\n",
       "      <td>Male</td>\n",
       "      <td>636</td>\n",
       "      <td>44077</td>\n",
       "    </tr>\n",
       "    <tr>\n",
       "      <th>4</th>\n",
       "      <td>641</td>\n",
       "      <td>Aboriginal and Torres Strait Islander health l...</td>\n",
       "      <td>Female</td>\n",
       "      <td>1878</td>\n",
       "      <td>43545</td>\n",
       "    </tr>\n",
       "  </tbody>\n",
       "</table>\n",
       "</div>"
      ],
      "text/plain": [
       "   Gender Rank                                         Occupation  Gender  \\\n",
       "0          795  Abattoir process worker; Meat process worker; ...  Female   \n",
       "1          881  Abattoir process worker; Meat process worker; ...    Male   \n",
       "2          699  Aboriginal and Torres Strait Islander educatio...  Female   \n",
       "3          828  Aboriginal and Torres Strait Islander educatio...    Male   \n",
       "4          641  Aboriginal and Torres Strait Islander health l...  Female   \n",
       "\n",
       "   Individuals  Average Taxable Income $  \n",
       "0         5961                     36359  \n",
       "1        17241                     40954  \n",
       "2         1386                     40926  \n",
       "3          636                     44077  \n",
       "4         1878                     43545  "
      ]
     },
     "execution_count": 7,
     "metadata": {},
     "output_type": "execute_result"
    }
   ],
   "source": [
    "df1.head()"
   ]
  },
  {
   "cell_type": "markdown",
   "metadata": {},
   "source": [
    "# Analyzing the descriptive statistics of our dataset "
   ]
  },
  {
   "cell_type": "code",
   "execution_count": 8,
   "metadata": {},
   "outputs": [
    {
     "data": {
      "text/html": [
       "<div>\n",
       "<style>\n",
       "    .dataframe thead tr:only-child th {\n",
       "        text-align: right;\n",
       "    }\n",
       "\n",
       "    .dataframe thead th {\n",
       "        text-align: left;\n",
       "    }\n",
       "\n",
       "    .dataframe tbody tr th {\n",
       "        vertical-align: top;\n",
       "    }\n",
       "</style>\n",
       "<table border=\"1\" class=\"dataframe\">\n",
       "  <thead>\n",
       "    <tr style=\"text-align: right;\">\n",
       "      <th></th>\n",
       "      <th>Gender Rank</th>\n",
       "      <th>Occupation</th>\n",
       "      <th>Gender</th>\n",
       "      <th>Individuals</th>\n",
       "      <th>Average Taxable Income $</th>\n",
       "    </tr>\n",
       "  </thead>\n",
       "  <tbody>\n",
       "    <tr>\n",
       "      <th>count</th>\n",
       "      <td>2197.000000</td>\n",
       "      <td>2197</td>\n",
       "      <td>2197</td>\n",
       "      <td>2197.000000</td>\n",
       "      <td>2197.000000</td>\n",
       "    </tr>\n",
       "    <tr>\n",
       "      <th>unique</th>\n",
       "      <td>NaN</td>\n",
       "      <td>1105</td>\n",
       "      <td>2</td>\n",
       "      <td>NaN</td>\n",
       "      <td>NaN</td>\n",
       "    </tr>\n",
       "    <tr>\n",
       "      <th>top</th>\n",
       "      <td>NaN</td>\n",
       "      <td>Plastics technician</td>\n",
       "      <td>Male</td>\n",
       "      <td>NaN</td>\n",
       "      <td>NaN</td>\n",
       "    </tr>\n",
       "    <tr>\n",
       "      <th>freq</th>\n",
       "      <td>NaN</td>\n",
       "      <td>2</td>\n",
       "      <td>1104</td>\n",
       "      <td>NaN</td>\n",
       "      <td>NaN</td>\n",
       "    </tr>\n",
       "    <tr>\n",
       "      <th>mean</th>\n",
       "      <td>549.763769</td>\n",
       "      <td>NaN</td>\n",
       "      <td>NaN</td>\n",
       "      <td>4683.712790</td>\n",
       "      <td>65678.155212</td>\n",
       "    </tr>\n",
       "    <tr>\n",
       "      <th>std</th>\n",
       "      <td>317.205550</td>\n",
       "      <td>NaN</td>\n",
       "      <td>NaN</td>\n",
       "      <td>14591.925071</td>\n",
       "      <td>51171.452173</td>\n",
       "    </tr>\n",
       "    <tr>\n",
       "      <th>min</th>\n",
       "      <td>1.000000</td>\n",
       "      <td>NaN</td>\n",
       "      <td>NaN</td>\n",
       "      <td>3.000000</td>\n",
       "      <td>13307.000000</td>\n",
       "    </tr>\n",
       "    <tr>\n",
       "      <th>25%</th>\n",
       "      <td>275.000000</td>\n",
       "      <td>NaN</td>\n",
       "      <td>NaN</td>\n",
       "      <td>209.000000</td>\n",
       "      <td>38909.000000</td>\n",
       "    </tr>\n",
       "    <tr>\n",
       "      <th>50%</th>\n",
       "      <td>550.000000</td>\n",
       "      <td>NaN</td>\n",
       "      <td>NaN</td>\n",
       "      <td>798.000000</td>\n",
       "      <td>53850.000000</td>\n",
       "    </tr>\n",
       "    <tr>\n",
       "      <th>75%</th>\n",
       "      <td>824.000000</td>\n",
       "      <td>NaN</td>\n",
       "      <td>NaN</td>\n",
       "      <td>2960.000000</td>\n",
       "      <td>74441.000000</td>\n",
       "    </tr>\n",
       "    <tr>\n",
       "      <th>max</th>\n",
       "      <td>1104.000000</td>\n",
       "      <td>NaN</td>\n",
       "      <td>NaN</td>\n",
       "      <td>293738.000000</td>\n",
       "      <td>577674.000000</td>\n",
       "    </tr>\n",
       "  </tbody>\n",
       "</table>\n",
       "</div>"
      ],
      "text/plain": [
       "        Gender Rank           Occupation Gender    Individuals  \\\n",
       "count   2197.000000                 2197   2197    2197.000000   \n",
       "unique          NaN                 1105      2            NaN   \n",
       "top             NaN  Plastics technician   Male            NaN   \n",
       "freq            NaN                    2   1104            NaN   \n",
       "mean     549.763769                  NaN    NaN    4683.712790   \n",
       "std      317.205550                  NaN    NaN   14591.925071   \n",
       "min        1.000000                  NaN    NaN       3.000000   \n",
       "25%      275.000000                  NaN    NaN     209.000000   \n",
       "50%      550.000000                  NaN    NaN     798.000000   \n",
       "75%      824.000000                  NaN    NaN    2960.000000   \n",
       "max     1104.000000                  NaN    NaN  293738.000000   \n",
       "\n",
       "        Average Taxable Income $  \n",
       "count                2197.000000  \n",
       "unique                       NaN  \n",
       "top                          NaN  \n",
       "freq                         NaN  \n",
       "mean                65678.155212  \n",
       "std                 51171.452173  \n",
       "min                 13307.000000  \n",
       "25%                 38909.000000  \n",
       "50%                 53850.000000  \n",
       "75%                 74441.000000  \n",
       "max                577674.000000  "
      ]
     },
     "execution_count": 8,
     "metadata": {},
     "output_type": "execute_result"
    }
   ],
   "source": [
    "df1.describe(include=\"all\")"
   ]
  },
  {
   "cell_type": "markdown",
   "metadata": {},
   "source": [
    "# Checking the datatypes of Columns in the dataframe"
   ]
  },
  {
   "cell_type": "code",
   "execution_count": 9,
   "metadata": {},
   "outputs": [
    {
     "data": {
      "text/plain": [
       "Gender Rank                  int64\n",
       "Occupation                  object\n",
       "Gender                      object\n",
       "Individuals                  int64\n",
       "Average Taxable Income $     int64\n",
       "dtype: object"
      ]
     },
     "execution_count": 9,
     "metadata": {},
     "output_type": "execute_result"
    }
   ],
   "source": [
    "df1.dtypes"
   ]
  },
  {
   "cell_type": "markdown",
   "metadata": {},
   "source": [
    "# Reviewing the Column Names in the dataframe"
   ]
  },
  {
   "cell_type": "code",
   "execution_count": 10,
   "metadata": {},
   "outputs": [
    {
     "data": {
      "text/plain": [
       "Index(['Gender Rank', 'Occupation', 'Gender', 'Individuals',\n",
       "       'Average Taxable Income $'],\n",
       "      dtype='object')"
      ]
     },
     "execution_count": 10,
     "metadata": {},
     "output_type": "execute_result"
    }
   ],
   "source": [
    "df1.columns"
   ]
  },
  {
   "cell_type": "markdown",
   "metadata": {},
   "source": [
    "# Checking for any missing or null Values in the dataset"
   ]
  },
  {
   "cell_type": "code",
   "execution_count": 11,
   "metadata": {},
   "outputs": [
    {
     "data": {
      "text/plain": [
       "False"
      ]
     },
     "execution_count": 11,
     "metadata": {},
     "output_type": "execute_result"
    }
   ],
   "source": [
    "df1.isnull().values.any()"
   ]
  },
  {
   "cell_type": "code",
   "execution_count": 12,
   "metadata": {},
   "outputs": [
    {
     "data": {
      "text/plain": [
       "Gender Rank                 0\n",
       "Occupation                  0\n",
       "Gender                      0\n",
       "Individuals                 0\n",
       "Average Taxable Income $    0\n",
       "dtype: int64"
      ]
     },
     "execution_count": 12,
     "metadata": {},
     "output_type": "execute_result"
    }
   ],
   "source": [
    "df1.isnull().sum()"
   ]
  },
  {
   "cell_type": "markdown",
   "metadata": {},
   "source": [
    "# Renaming the Columns in the dataframe"
   ]
  },
  {
   "cell_type": "code",
   "execution_count": 8,
   "metadata": {
    "collapsed": true
   },
   "outputs": [],
   "source": [
    "\n",
    "df1 = df1.rename(columns={'Gender Rank': 'Gender_Rank', \n",
    "                              'Occupation': 'Occupation', \n",
    "                              'Gender':'Gender', \n",
    "                              'Individuals': 'No.of_Individuals', \n",
    "                              'Average Taxable Income $': '$Average_Taxable_Income'})"
   ]
  },
  {
   "cell_type": "code",
   "execution_count": 14,
   "metadata": {
    "collapsed": true
   },
   "outputs": [],
   "source": [
    "df1['No.of_Individuals'] = df1['No.of_Individuals'].apply(lambda x: int(x))"
   ]
  },
  {
   "cell_type": "markdown",
   "metadata": {},
   "source": [
    "Columns 'Gender' and 'Occupation' have object data type, we are applying a function to use these columns as String datatype"
   ]
  },
  {
   "cell_type": "code",
   "execution_count": 15,
   "metadata": {
    "collapsed": true
   },
   "outputs": [],
   "source": [
    "df1['Gender'] = df1['Gender'].astype('str') \n",
    "df1['Occupation'] = df1['Occupation'].astype('str') "
   ]
  },
  {
   "cell_type": "markdown",
   "metadata": {},
   "source": [
    "Analyzing the range of unique values in the columns"
   ]
  },
  {
   "cell_type": "code",
   "execution_count": 16,
   "metadata": {},
   "outputs": [
    {
     "data": {
      "text/plain": [
       "array(['Female', 'Male'], dtype=object)"
      ]
     },
     "execution_count": 16,
     "metadata": {},
     "output_type": "execute_result"
    }
   ],
   "source": [
    "df1['Gender'].unique()\n"
   ]
  },
  {
   "cell_type": "code",
   "execution_count": 17,
   "metadata": {},
   "outputs": [
    {
     "data": {
      "text/plain": [
       "array([36359, 40954, 40926, ..., 46328, 41988, 47905], dtype=int64)"
      ]
     },
     "execution_count": 17,
     "metadata": {},
     "output_type": "execute_result"
    }
   ],
   "source": [
    "df1['$Average_Taxable_Income'].unique()"
   ]
  },
  {
   "cell_type": "code",
   "execution_count": 7,
   "metadata": {},
   "outputs": [
    {
     "data": {
      "text/plain": [
       "1"
      ]
     },
     "execution_count": 7,
     "metadata": {},
     "output_type": "execute_result"
    }
   ],
   "source": [
    "df1['Gender_Rank'].min()"
   ]
  },
  {
   "cell_type": "code",
   "execution_count": 8,
   "metadata": {},
   "outputs": [
    {
     "data": {
      "text/plain": [
       "1104"
      ]
     },
     "execution_count": 8,
     "metadata": {},
     "output_type": "execute_result"
    }
   ],
   "source": [
    "df1['Gender_Rank'].max()"
   ]
  },
  {
   "cell_type": "code",
   "execution_count": 19,
   "metadata": {},
   "outputs": [
    {
     "data": {
      "text/plain": [
       "array([ 5961, 17241,  1386, ...,  5985,   627,   370], dtype=int64)"
      ]
     },
     "execution_count": 19,
     "metadata": {},
     "output_type": "execute_result"
    }
   ],
   "source": [
    "df1['No.of_Individuals'].unique()"
   ]
  },
  {
   "cell_type": "code",
   "execution_count": 20,
   "metadata": {},
   "outputs": [
    {
     "data": {
      "text/plain": [
       "array([ 'Abattoir process worker; Meat process worker; Meatworker \\x96 meatworker\\x92s labourer',\n",
       "       'Aboriginal and Torres Strait Islander education worker',\n",
       "       'Aboriginal and Torres Strait Islander health liaison officer; Aboriginal and Torres Strait Islander health worker',\n",
       "       ..., 'Yarn carding and spinning machine operator', 'Youth worker',\n",
       "       'Zookeeper'], dtype=object)"
      ]
     },
     "execution_count": 20,
     "metadata": {},
     "output_type": "execute_result"
    }
   ],
   "source": [
    "df1['Occupation'].unique()"
   ]
  },
  {
   "cell_type": "markdown",
   "metadata": {},
   "source": [
    "# Removing Whitespaces and special characters from Occupation & Gender Columns"
   ]
  },
  {
   "cell_type": "code",
   "execution_count": 21,
   "metadata": {
    "collapsed": true
   },
   "outputs": [],
   "source": [
    "import re\n",
    "df1['Occupation']=df1['Occupation'].apply(lambda x: re.sub(r'[^ A-Za-z0-9_ ]*','',x))\n",
    "df1['Occupation'] = df1['Occupation'].str.strip()\n",
    "df1['Gender'] = df1['Gender'].str.strip()\n",
    "\n"
   ]
  },
  {
   "cell_type": "code",
   "execution_count": 22,
   "metadata": {},
   "outputs": [
    {
     "data": {
      "text/plain": [
       "array([ 'Abattoir process worker Meat process worker Meatworker  meatworkers labourer',\n",
       "       'Aboriginal and Torres Strait Islander education worker',\n",
       "       'Aboriginal and Torres Strait Islander health liaison officer Aboriginal and Torres Strait Islander health worker',\n",
       "       ..., 'Yarn carding and spinning machine operator', 'Youth worker',\n",
       "       'Zookeeper'], dtype=object)"
      ]
     },
     "execution_count": 22,
     "metadata": {},
     "output_type": "execute_result"
    }
   ],
   "source": [
    "df1['Occupation'].unique()"
   ]
  },
  {
   "cell_type": "code",
   "execution_count": 23,
   "metadata": {},
   "outputs": [
    {
     "data": {
      "text/plain": [
       "Male      1104\n",
       "Female    1093\n",
       "Name: Gender, dtype: int64"
      ]
     },
     "execution_count": 23,
     "metadata": {},
     "output_type": "execute_result"
    }
   ],
   "source": [
    "df1['Gender'].value_counts()"
   ]
  },
  {
   "cell_type": "markdown",
   "metadata": {},
   "source": [
    "# Some Visual Analysis"
   ]
  },
  {
   "cell_type": "code",
   "execution_count": 24,
   "metadata": {},
   "outputs": [
    {
     "data": {
      "text/plain": [
       "<matplotlib.axes._subplots.AxesSubplot at 0x245bd207cf8>"
      ]
     },
     "execution_count": 24,
     "metadata": {},
     "output_type": "execute_result"
    },
    {
     "data": {
      "image/png": "[encoded data removed]",
      "text/plain": [
       "<matplotlib.figure.Figure at 0x245bd22fcf8>"
      ]
     },
     "metadata": {},
     "output_type": "display_data"
    }
   ],
   "source": [
    "plt.rcParams[\"figure.figsize\"] = (15,10)\n",
    "df1.boxplot(column='$Average_Taxable_Income', by = 'Gender')"
   ]
  },
  {
   "cell_type": "markdown",
   "metadata": {},
   "source": [
    "The above boxplot shows the range of values of Average Taxable Income for Men and Women in Australia.The boxplot for Men has\n",
    "a higher median than Women's boxplot and is skewed to the right indicating positive skewness. Men's boxpot has more outliers \n",
    "and the dispersion of values of taxable income is higher. This indicates that for quite a lot of professions, Men are getting\n",
    "higher salaries than women in the same profession. The maximum value of Men's boxplot is around 550k while that of Women's\n",
    "boxplot outlier is 370k"
   ]
  },
  {
   "cell_type": "code",
   "execution_count": 25,
   "metadata": {},
   "outputs": [
    {
     "data": {
      "text/plain": [
       "<matplotlib.axes._subplots.AxesSubplot at 0x245bd60f9b0>"
      ]
     },
     "execution_count": 25,
     "metadata": {},
     "output_type": "execute_result"
    },
    {
     "data": {
      "image/png": "[encoded data removed]",
      "text/plain": [
       "<matplotlib.figure.Figure at 0x245bd30d668>"
      ]
     },
     "metadata": {},
     "output_type": "display_data"
    }
   ],
   "source": [
    "plt.rcParams[\"figure.figsize\"] = (15,10)\n",
    "df1.boxplot(column='Gender_Rank', by = 'Gender')"
   ]
  },
  {
   "cell_type": "markdown",
   "metadata": {},
   "source": [
    "The above boxplot shows the variation in the ranks of Occupation for both Men and Women. Top ranked professions are Neurosurgery,\n",
    "Opthalmalogy,Internal Medicine and Judge Law. The ranks start from the top ranked and the highest paid occupation  at 1 and then increase in descending order.\n",
    "The above boxplot shows that there is an equal proportion of ranking distribution between Men and Women, suggesting the fact\n",
    "that both Men and Women are currently present in all the mentioned occupations"
   ]
  },
  {
   "cell_type": "code",
   "execution_count": 26,
   "metadata": {
    "scrolled": true
   },
   "outputs": [
    {
     "data": {
      "text/plain": [
       "array([<matplotlib.axes._subplots.AxesSubplot object at 0x00000245BEB50710>,\n",
       "       <matplotlib.axes._subplots.AxesSubplot object at 0x00000245BEDDB1D0>,\n",
       "       <matplotlib.axes._subplots.AxesSubplot object at 0x00000245BEE23C50>], dtype=object)"
      ]
     },
     "execution_count": 26,
     "metadata": {},
     "output_type": "execute_result"
    },
    {
     "data": {
      "text/plain": [
       "<matplotlib.figure.Figure at 0x245bd60a588>"
      ]
     },
     "metadata": {},
     "output_type": "display_data"
    },
    {
     "data": {
      "image/png": "[encoded data removed]",
      "text/plain": [
       "<matplotlib.figure.Figure at 0x245be810198>"
      ]
     },
     "metadata": {},
     "output_type": "display_data"
    }
   ],
   "source": [
    "plt.figure()\n",
    "df1.plot(subplots=True)\n"
   ]
  },
  {
   "cell_type": "markdown",
   "metadata": {},
   "source": [
    "The above sub plots show the variation in Gender Ranks by occupation,No.of Individuals in each occupation and the Average Taxable Income.\n",
    "The plots indicate that there is a huge variation in the Taxable Income because every profession is paid on a different scale\n",
    "with respect to the skills and capabilities of an individual.Also, No.of individuals vary in different professions, some professions\n",
    "like Administration jobs have a large no. of individuals while professions like Neurosurgery have a small no. of individuals.\n"
   ]
  },
  {
   "cell_type": "code",
   "execution_count": 27,
   "metadata": {},
   "outputs": [
    {
     "data": {
      "text/plain": [
       "<matplotlib.axes._subplots.AxesSubplot at 0x245befd1a58>"
      ]
     },
     "execution_count": 27,
     "metadata": {},
     "output_type": "execute_result"
    },
    {
     "data": {
      "image/png": "[encoded data removed]",
      "text/plain": [
       "<matplotlib.figure.Figure at 0x245beee8cc0>"
      ]
     },
     "metadata": {},
     "output_type": "display_data"
    }
   ],
   "source": [
    "df1.plot(colormap='jet')"
   ]
  },
  {
   "cell_type": "code",
   "execution_count": 28,
   "metadata": {},
   "outputs": [
    {
     "data": {
      "image/png": "[encoded data removed]",
      "text/plain": [
       "<matplotlib.figure.Figure at 0x245befb3dd8>"
      ]
     },
     "metadata": {},
     "output_type": "display_data"
    }
   ],
   "source": [
    "plt.scatter(df1['$Average_Taxable_Income'], df1['No.of_Individuals'])\n",
    "plt.show() "
   ]
  },
  {
   "cell_type": "code",
   "execution_count": 29,
   "metadata": {},
   "outputs": [
    {
     "data": {
      "text/html": [
       "<div>\n",
       "<style>\n",
       "    .dataframe thead tr:only-child th {\n",
       "        text-align: right;\n",
       "    }\n",
       "\n",
       "    .dataframe thead th {\n",
       "        text-align: left;\n",
       "    }\n",
       "\n",
       "    .dataframe tbody tr th {\n",
       "        vertical-align: top;\n",
       "    }\n",
       "</style>\n",
       "<table border=\"1\" class=\"dataframe\">\n",
       "  <thead>\n",
       "    <tr>\n",
       "      <th></th>\n",
       "      <th colspan=\"8\" halign=\"left\">$Average_Taxable_Income</th>\n",
       "      <th colspan=\"5\" halign=\"left\">Gender_Rank</th>\n",
       "      <th colspan=\"8\" halign=\"left\">No.of_Individuals</th>\n",
       "    </tr>\n",
       "    <tr>\n",
       "      <th></th>\n",
       "      <th>count</th>\n",
       "      <th>mean</th>\n",
       "      <th>std</th>\n",
       "      <th>min</th>\n",
       "      <th>25%</th>\n",
       "      <th>50%</th>\n",
       "      <th>75%</th>\n",
       "      <th>max</th>\n",
       "      <th>count</th>\n",
       "      <th>mean</th>\n",
       "      <th>...</th>\n",
       "      <th>75%</th>\n",
       "      <th>max</th>\n",
       "      <th>count</th>\n",
       "      <th>mean</th>\n",
       "      <th>std</th>\n",
       "      <th>min</th>\n",
       "      <th>25%</th>\n",
       "      <th>50%</th>\n",
       "      <th>75%</th>\n",
       "      <th>max</th>\n",
       "    </tr>\n",
       "    <tr>\n",
       "      <th>Gender</th>\n",
       "      <th></th>\n",
       "      <th></th>\n",
       "      <th></th>\n",
       "      <th></th>\n",
       "      <th></th>\n",
       "      <th></th>\n",
       "      <th></th>\n",
       "      <th></th>\n",
       "      <th></th>\n",
       "      <th></th>\n",
       "      <th></th>\n",
       "      <th></th>\n",
       "      <th></th>\n",
       "      <th></th>\n",
       "      <th></th>\n",
       "      <th></th>\n",
       "      <th></th>\n",
       "      <th></th>\n",
       "      <th></th>\n",
       "      <th></th>\n",
       "      <th></th>\n",
       "    </tr>\n",
       "  </thead>\n",
       "  <tbody>\n",
       "    <tr>\n",
       "      <th>Female</th>\n",
       "      <td>1093.0</td>\n",
       "      <td>56109.103385</td>\n",
       "      <td>35284.106646</td>\n",
       "      <td>13307.0</td>\n",
       "      <td>34938.0</td>\n",
       "      <td>48511.0</td>\n",
       "      <td>64567.00</td>\n",
       "      <td>355844.0</td>\n",
       "      <td>1093.0</td>\n",
       "      <td>547.0</td>\n",
       "      <td>...</td>\n",
       "      <td>820.00</td>\n",
       "      <td>1093.0</td>\n",
       "      <td>1093.0</td>\n",
       "      <td>4497.581885</td>\n",
       "      <td>16407.869661</td>\n",
       "      <td>3.0</td>\n",
       "      <td>111.00</td>\n",
       "      <td>502.0</td>\n",
       "      <td>2148.00</td>\n",
       "      <td>293738.0</td>\n",
       "    </tr>\n",
       "    <tr>\n",
       "      <th>Male</th>\n",
       "      <td>1104.0</td>\n",
       "      <td>75151.863225</td>\n",
       "      <td>61645.548168</td>\n",
       "      <td>16490.0</td>\n",
       "      <td>44053.5</td>\n",
       "      <td>61591.5</td>\n",
       "      <td>83517.75</td>\n",
       "      <td>577674.0</td>\n",
       "      <td>1104.0</td>\n",
       "      <td>552.5</td>\n",
       "      <td>...</td>\n",
       "      <td>828.25</td>\n",
       "      <td>1104.0</td>\n",
       "      <td>1104.0</td>\n",
       "      <td>4867.989130</td>\n",
       "      <td>12542.587357</td>\n",
       "      <td>3.0</td>\n",
       "      <td>341.75</td>\n",
       "      <td>1206.0</td>\n",
       "      <td>3634.25</td>\n",
       "      <td>143209.0</td>\n",
       "    </tr>\n",
       "  </tbody>\n",
       "</table>\n",
       "<p>2 rows × 24 columns</p>\n",
       "</div>"
      ],
      "text/plain": [
       "       $Average_Taxable_Income                                                \\\n",
       "                         count          mean           std      min      25%   \n",
       "Gender                                                                         \n",
       "Female                  1093.0  56109.103385  35284.106646  13307.0  34938.0   \n",
       "Male                    1104.0  75151.863225  61645.548168  16490.0  44053.5   \n",
       "\n",
       "                                    Gender_Rank           ...             \\\n",
       "            50%       75%       max       count   mean    ...        75%   \n",
       "Gender                                                    ...              \n",
       "Female  48511.0  64567.00  355844.0      1093.0  547.0    ...     820.00   \n",
       "Male    61591.5  83517.75  577674.0      1104.0  552.5    ...     828.25   \n",
       "\n",
       "               No.of_Individuals                                          \\\n",
       "           max             count         mean           std  min     25%   \n",
       "Gender                                                                     \n",
       "Female  1093.0            1093.0  4497.581885  16407.869661  3.0  111.00   \n",
       "Male    1104.0            1104.0  4867.989130  12542.587357  3.0  341.75   \n",
       "\n",
       "                                   \n",
       "           50%      75%       max  \n",
       "Gender                             \n",
       "Female   502.0  2148.00  293738.0  \n",
       "Male    1206.0  3634.25  143209.0  \n",
       "\n",
       "[2 rows x 24 columns]"
      ]
     },
     "execution_count": 29,
     "metadata": {},
     "output_type": "execute_result"
    }
   ],
   "source": [
    "df1.groupby(['Gender']).describe()"
   ]
  },
  {
   "cell_type": "code",
   "execution_count": 30,
   "metadata": {},
   "outputs": [
    {
     "data": {
      "text/plain": [
       "Gender_Rank                  549.763769\n",
       "No.of_Individuals           4683.712790\n",
       "$Average_Taxable_Income    65678.155212\n",
       "dtype: float64"
      ]
     },
     "execution_count": 30,
     "metadata": {},
     "output_type": "execute_result"
    }
   ],
   "source": [
    "df1.mean()"
   ]
  },
  {
   "cell_type": "markdown",
   "metadata": {},
   "source": [
    "The mean values show that an Average Taxable Income in Australia is $65,678. Average no.of individuals in a particular occupation\n",
    "is 4,683"
   ]
  },
  {
   "cell_type": "code",
   "execution_count": 31,
   "metadata": {},
   "outputs": [
    {
     "data": {
      "text/plain": [
       "Gender_Rank                  550.0\n",
       "No.of_Individuals            798.0\n",
       "$Average_Taxable_Income    53850.0\n",
       "dtype: float64"
      ]
     },
     "execution_count": 31,
     "metadata": {},
     "output_type": "execute_result"
    }
   ],
   "source": [
    "df1.median()"
   ]
  },
  {
   "cell_type": "code",
   "execution_count": 32,
   "metadata": {
    "scrolled": true
   },
   "outputs": [
    {
     "data": {
      "text/html": [
       "<div>\n",
       "<style>\n",
       "    .dataframe thead tr:only-child th {\n",
       "        text-align: right;\n",
       "    }\n",
       "\n",
       "    .dataframe thead th {\n",
       "        text-align: left;\n",
       "    }\n",
       "\n",
       "    .dataframe tbody tr th {\n",
       "        vertical-align: top;\n",
       "    }\n",
       "</style>\n",
       "<table border=\"1\" class=\"dataframe\">\n",
       "  <thead>\n",
       "    <tr style=\"text-align: right;\">\n",
       "      <th></th>\n",
       "      <th>Gender_Rank</th>\n",
       "      <th>Occupation</th>\n",
       "      <th>Gender</th>\n",
       "      <th>No.of_Individuals</th>\n",
       "      <th>$Average_Taxable_Income</th>\n",
       "    </tr>\n",
       "  </thead>\n",
       "  <tbody>\n",
       "    <tr>\n",
       "      <th>1549</th>\n",
       "      <td>1</td>\n",
       "      <td>Neurosurgeon</td>\n",
       "      <td>Male</td>\n",
       "      <td>142</td>\n",
       "      <td>577674</td>\n",
       "    </tr>\n",
       "    <tr>\n",
       "      <th>1597</th>\n",
       "      <td>2</td>\n",
       "      <td>Ophthalmologist</td>\n",
       "      <td>Male</td>\n",
       "      <td>423</td>\n",
       "      <td>552947</td>\n",
       "    </tr>\n",
       "    <tr>\n",
       "      <th>481</th>\n",
       "      <td>3</td>\n",
       "      <td>Cardiologist</td>\n",
       "      <td>Male</td>\n",
       "      <td>651</td>\n",
       "      <td>453253</td>\n",
       "    </tr>\n",
       "    <tr>\n",
       "      <th>1685</th>\n",
       "      <td>4</td>\n",
       "      <td>Plastic and reconstructive surgeon</td>\n",
       "      <td>Male</td>\n",
       "      <td>237</td>\n",
       "      <td>448530</td>\n",
       "    </tr>\n",
       "    <tr>\n",
       "      <th>1203</th>\n",
       "      <td>5</td>\n",
       "      <td>Gynaecologist Obstetrician</td>\n",
       "      <td>Male</td>\n",
       "      <td>641</td>\n",
       "      <td>446507</td>\n",
       "    </tr>\n",
       "    <tr>\n",
       "      <th>1617</th>\n",
       "      <td>6</td>\n",
       "      <td>Otorhinolaryngologist</td>\n",
       "      <td>Male</td>\n",
       "      <td>85</td>\n",
       "      <td>445939</td>\n",
       "    </tr>\n",
       "    <tr>\n",
       "      <th>1609</th>\n",
       "      <td>7</td>\n",
       "      <td>Orthopaedic surgeon</td>\n",
       "      <td>Male</td>\n",
       "      <td>805</td>\n",
       "      <td>439629</td>\n",
       "    </tr>\n",
       "    <tr>\n",
       "      <th>2123</th>\n",
       "      <td>8</td>\n",
       "      <td>Urologist</td>\n",
       "      <td>Male</td>\n",
       "      <td>254</td>\n",
       "      <td>433792</td>\n",
       "    </tr>\n",
       "    <tr>\n",
       "      <th>2127</th>\n",
       "      <td>9</td>\n",
       "      <td>Vascular surgeon</td>\n",
       "      <td>Male</td>\n",
       "      <td>99</td>\n",
       "      <td>417524</td>\n",
       "    </tr>\n",
       "    <tr>\n",
       "      <th>1145</th>\n",
       "      <td>10</td>\n",
       "      <td>Gastroenterologist</td>\n",
       "      <td>Male</td>\n",
       "      <td>294</td>\n",
       "      <td>415192</td>\n",
       "    </tr>\n",
       "    <tr>\n",
       "      <th>845</th>\n",
       "      <td>11</td>\n",
       "      <td>Diagnostic and interventional radiologist</td>\n",
       "      <td>Male</td>\n",
       "      <td>1139</td>\n",
       "      <td>386003</td>\n",
       "    </tr>\n",
       "    <tr>\n",
       "      <th>841</th>\n",
       "      <td>12</td>\n",
       "      <td>Dermatologist</td>\n",
       "      <td>Male</td>\n",
       "      <td>170</td>\n",
       "      <td>383880</td>\n",
       "    </tr>\n",
       "    <tr>\n",
       "      <th>1340</th>\n",
       "      <td>13</td>\n",
       "      <td>Judge  law</td>\n",
       "      <td>Male</td>\n",
       "      <td>531</td>\n",
       "      <td>381323</td>\n",
       "    </tr>\n",
       "    <tr>\n",
       "      <th>99</th>\n",
       "      <td>14</td>\n",
       "      <td>Anaesthetist</td>\n",
       "      <td>Male</td>\n",
       "      <td>2160</td>\n",
       "      <td>370492</td>\n",
       "    </tr>\n",
       "    <tr>\n",
       "      <th>483</th>\n",
       "      <td>15</td>\n",
       "      <td>Cardiothoracic surgeon</td>\n",
       "      <td>Male</td>\n",
       "      <td>134</td>\n",
       "      <td>358043</td>\n",
       "    </tr>\n",
       "  </tbody>\n",
       "</table>\n",
       "</div>"
      ],
      "text/plain": [
       "      Gender_Rank                                 Occupation Gender  \\\n",
       "1549            1                               Neurosurgeon   Male   \n",
       "1597            2                            Ophthalmologist   Male   \n",
       "481             3                               Cardiologist   Male   \n",
       "1685            4         Plastic and reconstructive surgeon   Male   \n",
       "1203            5                 Gynaecologist Obstetrician   Male   \n",
       "1617            6                      Otorhinolaryngologist   Male   \n",
       "1609            7                        Orthopaedic surgeon   Male   \n",
       "2123            8                                  Urologist   Male   \n",
       "2127            9                           Vascular surgeon   Male   \n",
       "1145           10                         Gastroenterologist   Male   \n",
       "845            11  Diagnostic and interventional radiologist   Male   \n",
       "841            12                              Dermatologist   Male   \n",
       "1340           13                                 Judge  law   Male   \n",
       "99             14                               Anaesthetist   Male   \n",
       "483            15                     Cardiothoracic surgeon   Male   \n",
       "\n",
       "      No.of_Individuals  $Average_Taxable_Income  \n",
       "1549                142                   577674  \n",
       "1597                423                   552947  \n",
       "481                 651                   453253  \n",
       "1685                237                   448530  \n",
       "1203                641                   446507  \n",
       "1617                 85                   445939  \n",
       "1609                805                   439629  \n",
       "2123                254                   433792  \n",
       "2127                 99                   417524  \n",
       "1145                294                   415192  \n",
       "845                1139                   386003  \n",
       "841                 170                   383880  \n",
       "1340                531                   381323  \n",
       "99                 2160                   370492  \n",
       "483                 134                   358043  "
      ]
     },
     "execution_count": 32,
     "metadata": {},
     "output_type": "execute_result"
    }
   ],
   "source": [
    "df1.sort_values('$Average_Taxable_Income',ascending=False).head(15)"
   ]
  },
  {
   "cell_type": "markdown",
   "metadata": {},
   "source": [
    "Sorting the values of Average Taxable Income in descending order yields the results in the above output. We can see medical\n",
    "related professions like Neurosurgery, Opthalmology, Cardology and general surgery are top highest paid professions for Men in\n",
    "Australia. Similar professions are paying Women less than Men in Australia, thereby confirming our main claim that Australia's\n",
    "Top 50 jobs pay Men more than Women.\n",
    "However, in the documentation on the github read me file, we will analyze the Rebuttal or a contradiction to our original claim by incorporating data from another source and merging that data with the existing dataset as shown below in this Jupyter Notebook\n"
   ]
  },
  {
   "cell_type": "code",
   "execution_count": 33,
   "metadata": {},
   "outputs": [
    {
     "name": "stdout",
     "output_type": "stream",
     "text": [
      "<class 'pandas.core.frame.DataFrame'>\n",
      "RangeIndex: 2197 entries, 0 to 2196\n",
      "Data columns (total 5 columns):\n",
      "Gender_Rank                2197 non-null int64\n",
      "Occupation                 2197 non-null object\n",
      "Gender                     2197 non-null object\n",
      "No.of_Individuals          2197 non-null int64\n",
      "$Average_Taxable_Income    2197 non-null int64\n",
      "dtypes: int64(3), object(2)\n",
      "memory usage: 85.9+ KB\n"
     ]
    }
   ],
   "source": [
    "df1.info()"
   ]
  },
  {
   "cell_type": "code",
   "execution_count": 34,
   "metadata": {
    "collapsed": true
   },
   "outputs": [],
   "source": [
    "df1.to_excel('AusGenderPayGap.xlsx', index=False)"
   ]
  },
  {
   "cell_type": "markdown",
   "metadata": {
    "collapsed": true
   },
   "source": [
    "# For the Rebuttal of the Original Claim, that, Australia's Top 50 jobs are paying Men more than Women, we selected datasets on Labaor Force Participation as well as Full-Time vs Part-Time Participation of Men & Women"
   ]
  },
  {
   "cell_type": "markdown",
   "metadata": {},
   "source": [
    "Source : http://stats.oecd.org/"
   ]
  },
  {
   "cell_type": "code",
   "execution_count": 9,
   "metadata": {
    "collapsed": true
   },
   "outputs": [],
   "source": [
    "df2 = pd.read_csv('AusLFS.Rebuttal.csv',encoding='latin-1') # For Total Labor Force Participation of Men and Women"
   ]
  },
  {
   "cell_type": "code",
   "execution_count": 10,
   "metadata": {
    "collapsed": true
   },
   "outputs": [],
   "source": [
    "df3 = pd.read_csv('AusFTLFP_Rebuttal.csv',encoding='latin-1') # For Full Time Labor Force Participation of Men and Women"
   ]
  },
  {
   "cell_type": "code",
   "execution_count": 11,
   "metadata": {},
   "outputs": [
    {
     "data": {
      "text/html": [
       "<div>\n",
       "<style>\n",
       "    .dataframe thead tr:only-child th {\n",
       "        text-align: right;\n",
       "    }\n",
       "\n",
       "    .dataframe thead th {\n",
       "        text-align: left;\n",
       "    }\n",
       "\n",
       "    .dataframe tbody tr th {\n",
       "        vertical-align: top;\n",
       "    }\n",
       "</style>\n",
       "<table border=\"1\" class=\"dataframe\">\n",
       "  <thead>\n",
       "    <tr style=\"text-align: right;\">\n",
       "      <th></th>\n",
       "      <th>Country</th>\n",
       "      <th>Sex</th>\n",
       "      <th>2000</th>\n",
       "      <th>2001</th>\n",
       "      <th>2002</th>\n",
       "      <th>2003</th>\n",
       "      <th>2004</th>\n",
       "      <th>2005</th>\n",
       "      <th>2006</th>\n",
       "      <th>2007</th>\n",
       "      <th>2008</th>\n",
       "      <th>2009</th>\n",
       "      <th>2010</th>\n",
       "      <th>2011</th>\n",
       "      <th>2012</th>\n",
       "      <th>2013</th>\n",
       "      <th>2014</th>\n",
       "      <th>2015</th>\n",
       "      <th>2016</th>\n",
       "    </tr>\n",
       "  </thead>\n",
       "  <tbody>\n",
       "    <tr>\n",
       "      <th>0</th>\n",
       "      <td>Australia</td>\n",
       "      <td>Men</td>\n",
       "      <td>82.326517</td>\n",
       "      <td>82.184277</td>\n",
       "      <td>82.150898</td>\n",
       "      <td>81.968874</td>\n",
       "      <td>82.013330</td>\n",
       "      <td>82.617600</td>\n",
       "      <td>82.744396</td>\n",
       "      <td>82.965229</td>\n",
       "      <td>83.044819</td>\n",
       "      <td>82.612073</td>\n",
       "      <td>82.897626</td>\n",
       "      <td>82.842008</td>\n",
       "      <td>82.482942</td>\n",
       "      <td>82.391038</td>\n",
       "      <td>82.133287</td>\n",
       "      <td>82.702119</td>\n",
       "      <td>82.322065</td>\n",
       "    </tr>\n",
       "    <tr>\n",
       "      <th>1</th>\n",
       "      <td>NaN</td>\n",
       "      <td>Women</td>\n",
       "      <td>65.258794</td>\n",
       "      <td>65.937971</td>\n",
       "      <td>66.156331</td>\n",
       "      <td>67.021321</td>\n",
       "      <td>66.737111</td>\n",
       "      <td>68.190144</td>\n",
       "      <td>68.871148</td>\n",
       "      <td>69.424565</td>\n",
       "      <td>69.955726</td>\n",
       "      <td>70.147904</td>\n",
       "      <td>69.971300</td>\n",
       "      <td>70.454033</td>\n",
       "      <td>70.391816</td>\n",
       "      <td>70.450406</td>\n",
       "      <td>70.532562</td>\n",
       "      <td>71.232197</td>\n",
       "      <td>71.598317</td>\n",
       "    </tr>\n",
       "    <tr>\n",
       "      <th>2</th>\n",
       "      <td>NaN</td>\n",
       "      <td>All persons</td>\n",
       "      <td>73.793598</td>\n",
       "      <td>74.056300</td>\n",
       "      <td>74.148595</td>\n",
       "      <td>74.488849</td>\n",
       "      <td>74.369070</td>\n",
       "      <td>75.397418</td>\n",
       "      <td>75.802756</td>\n",
       "      <td>76.192719</td>\n",
       "      <td>76.503490</td>\n",
       "      <td>76.385437</td>\n",
       "      <td>76.435331</td>\n",
       "      <td>76.643571</td>\n",
       "      <td>76.431876</td>\n",
       "      <td>76.411465</td>\n",
       "      <td>76.317260</td>\n",
       "      <td>76.946775</td>\n",
       "      <td>76.938387</td>\n",
       "    </tr>\n",
       "    <tr>\n",
       "      <th>3</th>\n",
       "      <td>Austria</td>\n",
       "      <td>Men</td>\n",
       "      <td>79.890792</td>\n",
       "      <td>79.305733</td>\n",
       "      <td>79.709097</td>\n",
       "      <td>79.858714</td>\n",
       "      <td>77.354367</td>\n",
       "      <td>78.034984</td>\n",
       "      <td>78.878727</td>\n",
       "      <td>79.962903</td>\n",
       "      <td>80.005483</td>\n",
       "      <td>79.996399</td>\n",
       "      <td>80.018077</td>\n",
       "      <td>79.909827</td>\n",
       "      <td>80.239344</td>\n",
       "      <td>80.416386</td>\n",
       "      <td>79.997969</td>\n",
       "      <td>80.122360</td>\n",
       "      <td>80.703290</td>\n",
       "    </tr>\n",
       "    <tr>\n",
       "      <th>4</th>\n",
       "      <td>NaN</td>\n",
       "      <td>Women</td>\n",
       "      <td>61.778591</td>\n",
       "      <td>62.256809</td>\n",
       "      <td>63.672772</td>\n",
       "      <td>64.288529</td>\n",
       "      <td>63.503815</td>\n",
       "      <td>64.904287</td>\n",
       "      <td>65.962187</td>\n",
       "      <td>67.089888</td>\n",
       "      <td>67.837260</td>\n",
       "      <td>68.738217</td>\n",
       "      <td>68.899415</td>\n",
       "      <td>69.267765</td>\n",
       "      <td>70.049159</td>\n",
       "      <td>70.651463</td>\n",
       "      <td>70.804432</td>\n",
       "      <td>70.901721</td>\n",
       "      <td>71.684743</td>\n",
       "    </tr>\n",
       "  </tbody>\n",
       "</table>\n",
       "</div>"
      ],
      "text/plain": [
       "     Country          Sex       2000       2001       2002       2003  \\\n",
       "0  Australia          Men  82.326517  82.184277  82.150898  81.968874   \n",
       "1        NaN        Women  65.258794  65.937971  66.156331  67.021321   \n",
       "2        NaN  All persons  73.793598  74.056300  74.148595  74.488849   \n",
       "3    Austria          Men  79.890792  79.305733  79.709097  79.858714   \n",
       "4        NaN        Women  61.778591  62.256809  63.672772  64.288529   \n",
       "\n",
       "        2004       2005       2006       2007       2008       2009  \\\n",
       "0  82.013330  82.617600  82.744396  82.965229  83.044819  82.612073   \n",
       "1  66.737111  68.190144  68.871148  69.424565  69.955726  70.147904   \n",
       "2  74.369070  75.397418  75.802756  76.192719  76.503490  76.385437   \n",
       "3  77.354367  78.034984  78.878727  79.962903  80.005483  79.996399   \n",
       "4  63.503815  64.904287  65.962187  67.089888  67.837260  68.738217   \n",
       "\n",
       "        2010       2011       2012       2013       2014       2015       2016  \n",
       "0  82.897626  82.842008  82.482942  82.391038  82.133287  82.702119  82.322065  \n",
       "1  69.971300  70.454033  70.391816  70.450406  70.532562  71.232197  71.598317  \n",
       "2  76.435331  76.643571  76.431876  76.411465  76.317260  76.946775  76.938387  \n",
       "3  80.018077  79.909827  80.239344  80.416386  79.997969  80.122360  80.703290  \n",
       "4  68.899415  69.267765  70.049159  70.651463  70.804432  70.901721  71.684743  "
      ]
     },
     "execution_count": 11,
     "metadata": {},
     "output_type": "execute_result"
    }
   ],
   "source": [
    "df2.head()"
   ]
  },
  {
   "cell_type": "code",
   "execution_count": 12,
   "metadata": {},
   "outputs": [
    {
     "data": {
      "text/html": [
       "<div>\n",
       "<style>\n",
       "    .dataframe thead tr:only-child th {\n",
       "        text-align: right;\n",
       "    }\n",
       "\n",
       "    .dataframe thead th {\n",
       "        text-align: left;\n",
       "    }\n",
       "\n",
       "    .dataframe tbody tr th {\n",
       "        vertical-align: top;\n",
       "    }\n",
       "</style>\n",
       "<table border=\"1\" class=\"dataframe\">\n",
       "  <thead>\n",
       "    <tr style=\"text-align: right;\">\n",
       "      <th></th>\n",
       "      <th>Country</th>\n",
       "      <th>Sex</th>\n",
       "      <th>2000</th>\n",
       "      <th>2001</th>\n",
       "      <th>2002</th>\n",
       "      <th>2003</th>\n",
       "      <th>2004</th>\n",
       "      <th>2005</th>\n",
       "      <th>2006</th>\n",
       "      <th>2007</th>\n",
       "      <th>2008</th>\n",
       "      <th>2009</th>\n",
       "      <th>2010</th>\n",
       "      <th>2011</th>\n",
       "      <th>2012</th>\n",
       "      <th>2013</th>\n",
       "      <th>2014</th>\n",
       "      <th>2015</th>\n",
       "      <th>2016</th>\n",
       "    </tr>\n",
       "  </thead>\n",
       "  <tbody>\n",
       "    <tr>\n",
       "      <th>0</th>\n",
       "      <td>Australia</td>\n",
       "      <td>Men</td>\n",
       "      <td>87.176088</td>\n",
       "      <td>86.079665</td>\n",
       "      <td>85.516592</td>\n",
       "      <td>85.501107</td>\n",
       "      <td>85.353421</td>\n",
       "      <td>85.333725</td>\n",
       "      <td>84.920492</td>\n",
       "      <td>85.037734</td>\n",
       "      <td>85.099067</td>\n",
       "      <td>83.889238</td>\n",
       "      <td>83.495533</td>\n",
       "      <td>83.822759</td>\n",
       "      <td>83.823291</td>\n",
       "      <td>83.148712</td>\n",
       "      <td>82.713938</td>\n",
       "      <td>82.350051</td>\n",
       "      <td>81.348125</td>\n",
       "    </tr>\n",
       "    <tr>\n",
       "      <th>1</th>\n",
       "      <td>NaN</td>\n",
       "      <td>Women</td>\n",
       "      <td>56.514426</td>\n",
       "      <td>55.609354</td>\n",
       "      <td>54.508768</td>\n",
       "      <td>54.503733</td>\n",
       "      <td>54.816153</td>\n",
       "      <td>54.554263</td>\n",
       "      <td>55.002300</td>\n",
       "      <td>55.452376</td>\n",
       "      <td>55.630533</td>\n",
       "      <td>54.734598</td>\n",
       "      <td>54.251150</td>\n",
       "      <td>54.426512</td>\n",
       "      <td>54.427425</td>\n",
       "      <td>54.056010</td>\n",
       "      <td>53.687770</td>\n",
       "      <td>53.590476</td>\n",
       "      <td>53.290677</td>\n",
       "    </tr>\n",
       "    <tr>\n",
       "      <th>2</th>\n",
       "      <td>NaN</td>\n",
       "      <td>All persons</td>\n",
       "      <td>73.661507</td>\n",
       "      <td>72.537492</td>\n",
       "      <td>71.721579</td>\n",
       "      <td>71.631787</td>\n",
       "      <td>71.738243</td>\n",
       "      <td>71.510115</td>\n",
       "      <td>71.430547</td>\n",
       "      <td>71.706208</td>\n",
       "      <td>71.778895</td>\n",
       "      <td>70.597272</td>\n",
       "      <td>70.226992</td>\n",
       "      <td>70.439954</td>\n",
       "      <td>70.394981</td>\n",
       "      <td>69.812853</td>\n",
       "      <td>69.380832</td>\n",
       "      <td>69.082774</td>\n",
       "      <td>68.335339</td>\n",
       "    </tr>\n",
       "    <tr>\n",
       "      <th>3</th>\n",
       "      <td>Austria</td>\n",
       "      <td>Men</td>\n",
       "      <td>95.973540</td>\n",
       "      <td>95.555720</td>\n",
       "      <td>95.321149</td>\n",
       "      <td>95.309531</td>\n",
       "      <td>95.154363</td>\n",
       "      <td>93.808531</td>\n",
       "      <td>93.443961</td>\n",
       "      <td>92.805555</td>\n",
       "      <td>91.824685</td>\n",
       "      <td>91.158777</td>\n",
       "      <td>90.827020</td>\n",
       "      <td>91.084233</td>\n",
       "      <td>90.839269</td>\n",
       "      <td>89.711238</td>\n",
       "      <td>89.060179</td>\n",
       "      <td>88.814414</td>\n",
       "      <td>88.178352</td>\n",
       "    </tr>\n",
       "    <tr>\n",
       "      <th>4</th>\n",
       "      <td>NaN</td>\n",
       "      <td>Women</td>\n",
       "      <td>67.661996</td>\n",
       "      <td>65.656731</td>\n",
       "      <td>64.671967</td>\n",
       "      <td>64.002438</td>\n",
       "      <td>62.415773</td>\n",
       "      <td>60.527641</td>\n",
       "      <td>59.604502</td>\n",
       "      <td>58.758209</td>\n",
       "      <td>58.414208</td>\n",
       "      <td>56.887198</td>\n",
       "      <td>56.198274</td>\n",
       "      <td>55.912365</td>\n",
       "      <td>54.944804</td>\n",
       "      <td>54.390562</td>\n",
       "      <td>53.108431</td>\n",
       "      <td>52.591426</td>\n",
       "      <td>52.307770</td>\n",
       "    </tr>\n",
       "  </tbody>\n",
       "</table>\n",
       "</div>"
      ],
      "text/plain": [
       "     Country          Sex       2000       2001       2002       2003  \\\n",
       "0  Australia          Men  87.176088  86.079665  85.516592  85.501107   \n",
       "1        NaN        Women  56.514426  55.609354  54.508768  54.503733   \n",
       "2        NaN  All persons  73.661507  72.537492  71.721579  71.631787   \n",
       "3    Austria          Men  95.973540  95.555720  95.321149  95.309531   \n",
       "4        NaN        Women  67.661996  65.656731  64.671967  64.002438   \n",
       "\n",
       "        2004       2005       2006       2007       2008       2009  \\\n",
       "0  85.353421  85.333725  84.920492  85.037734  85.099067  83.889238   \n",
       "1  54.816153  54.554263  55.002300  55.452376  55.630533  54.734598   \n",
       "2  71.738243  71.510115  71.430547  71.706208  71.778895  70.597272   \n",
       "3  95.154363  93.808531  93.443961  92.805555  91.824685  91.158777   \n",
       "4  62.415773  60.527641  59.604502  58.758209  58.414208  56.887198   \n",
       "\n",
       "        2010       2011       2012       2013       2014       2015       2016  \n",
       "0  83.495533  83.822759  83.823291  83.148712  82.713938  82.350051  81.348125  \n",
       "1  54.251150  54.426512  54.427425  54.056010  53.687770  53.590476  53.290677  \n",
       "2  70.226992  70.439954  70.394981  69.812853  69.380832  69.082774  68.335339  \n",
       "3  90.827020  91.084233  90.839269  89.711238  89.060179  88.814414  88.178352  \n",
       "4  56.198274  55.912365  54.944804  54.390562  53.108431  52.591426  52.307770  "
      ]
     },
     "execution_count": 12,
     "metadata": {},
     "output_type": "execute_result"
    }
   ],
   "source": [
    "df3.head()"
   ]
  },
  {
   "cell_type": "markdown",
   "metadata": {},
   "source": [
    "# Selecting only the data of Australia from the datasets"
   ]
  },
  {
   "cell_type": "code",
   "execution_count": 13,
   "metadata": {
    "collapsed": true
   },
   "outputs": [],
   "source": [
    "df4 = df2.iloc[0:2,[1,12,13,14,15,16,17,18]]"
   ]
  },
  {
   "cell_type": "code",
   "execution_count": 14,
   "metadata": {},
   "outputs": [
    {
     "name": "stdout",
     "output_type": "stream",
     "text": [
      "     Sex       2010       2011       2012       2013       2014       2015  \\\n",
      "0    Men  82.897626  82.842008  82.482942  82.391038  82.133287  82.702119   \n",
      "1  Women  69.971300  70.454033  70.391816  70.450406  70.532562  71.232197   \n",
      "\n",
      "        2016  \n",
      "0  82.322065  \n",
      "1  71.598317  \n"
     ]
    }
   ],
   "source": [
    "print(df4)"
   ]
  },
  {
   "cell_type": "markdown",
   "metadata": {},
   "source": [
    "The above dataframe shows the Australia's total labor force participation by Men and Women. We can see in 2016 it was 82.7 % and 71.23 % for Men and Women respectively"
   ]
  },
  {
   "cell_type": "code",
   "execution_count": 15,
   "metadata": {
    "collapsed": true
   },
   "outputs": [],
   "source": [
    "df5 = df3.iloc[0:2,[1,12,13,14,15,16,17,18]]"
   ]
  },
  {
   "cell_type": "code",
   "execution_count": 16,
   "metadata": {},
   "outputs": [
    {
     "name": "stdout",
     "output_type": "stream",
     "text": [
      "     Sex       2010       2011       2012       2013       2014       2015  \\\n",
      "0    Men  83.495533  83.822759  83.823291  83.148712  82.713938  82.350051   \n",
      "1  Women  54.251150  54.426512  54.427425  54.056010  53.687770  53.590476   \n",
      "\n",
      "        2016  \n",
      "0  81.348125  \n",
      "1  53.290677  \n"
     ]
    }
   ],
   "source": [
    "print(df5)"
   ]
  },
  {
   "cell_type": "markdown",
   "metadata": {},
   "source": [
    "The above dataframe shows the Australia's full time labor force participation by Men and Women. We can see in 2016 it was 82.35%\n",
    "and much lesser 53.59% for Men and Women respectively. This is an important argument in our rebuttal towards the claim that \n",
    "Men are significantly paid more than Women in Australia. The reason that Men are commanding higher salaries is that Women take\n",
    "less part in full time labor force and Women tend to work more part time shifts in Australia"
   ]
  },
  {
   "cell_type": "markdown",
   "metadata": {},
   "source": [
    "# Merging our dataframes in a single dataframe"
   ]
  },
  {
   "cell_type": "code",
   "execution_count": 103,
   "metadata": {
    "collapsed": true
   },
   "outputs": [],
   "source": [
    "result = pd.concat([df1, df4,df5], axis=1, ignore_index=False)"
   ]
  },
  {
   "cell_type": "code",
   "execution_count": 104,
   "metadata": {},
   "outputs": [
    {
     "data": {
      "text/html": [
       "<div>\n",
       "<style>\n",
       "    .dataframe thead tr:only-child th {\n",
       "        text-align: right;\n",
       "    }\n",
       "\n",
       "    .dataframe thead th {\n",
       "        text-align: left;\n",
       "    }\n",
       "\n",
       "    .dataframe tbody tr th {\n",
       "        vertical-align: top;\n",
       "    }\n",
       "</style>\n",
       "<table border=\"1\" class=\"dataframe\">\n",
       "  <thead>\n",
       "    <tr style=\"text-align: right;\">\n",
       "      <th></th>\n",
       "      <th>Gender_Rank</th>\n",
       "      <th>Occupation</th>\n",
       "      <th>Gender</th>\n",
       "      <th>No.of_Individuals</th>\n",
       "      <th>$Average_Taxable_Income</th>\n",
       "      <th>Sex</th>\n",
       "      <th>2010</th>\n",
       "      <th>2011</th>\n",
       "      <th>2012</th>\n",
       "      <th>2013</th>\n",
       "      <th>...</th>\n",
       "      <th>2015</th>\n",
       "      <th>2016</th>\n",
       "      <th>Sex</th>\n",
       "      <th>2010</th>\n",
       "      <th>2011</th>\n",
       "      <th>2012</th>\n",
       "      <th>2013</th>\n",
       "      <th>2014</th>\n",
       "      <th>2015</th>\n",
       "      <th>2016</th>\n",
       "    </tr>\n",
       "  </thead>\n",
       "  <tbody>\n",
       "    <tr>\n",
       "      <th>0</th>\n",
       "      <td>795</td>\n",
       "      <td>Abattoir process worker Meat process worker Me...</td>\n",
       "      <td>Female</td>\n",
       "      <td>5961</td>\n",
       "      <td>36359</td>\n",
       "      <td>Men</td>\n",
       "      <td>82.897626</td>\n",
       "      <td>82.842008</td>\n",
       "      <td>82.482942</td>\n",
       "      <td>82.391038</td>\n",
       "      <td>...</td>\n",
       "      <td>82.702119</td>\n",
       "      <td>82.322065</td>\n",
       "      <td>Men</td>\n",
       "      <td>83.495533</td>\n",
       "      <td>83.822759</td>\n",
       "      <td>83.823291</td>\n",
       "      <td>83.148712</td>\n",
       "      <td>82.713938</td>\n",
       "      <td>82.350051</td>\n",
       "      <td>81.348125</td>\n",
       "    </tr>\n",
       "    <tr>\n",
       "      <th>1</th>\n",
       "      <td>881</td>\n",
       "      <td>Abattoir process worker Meat process worker Me...</td>\n",
       "      <td>Male</td>\n",
       "      <td>17241</td>\n",
       "      <td>40954</td>\n",
       "      <td>Women</td>\n",
       "      <td>69.971300</td>\n",
       "      <td>70.454033</td>\n",
       "      <td>70.391816</td>\n",
       "      <td>70.450406</td>\n",
       "      <td>...</td>\n",
       "      <td>71.232197</td>\n",
       "      <td>71.598317</td>\n",
       "      <td>Women</td>\n",
       "      <td>54.251150</td>\n",
       "      <td>54.426512</td>\n",
       "      <td>54.427425</td>\n",
       "      <td>54.056010</td>\n",
       "      <td>53.687770</td>\n",
       "      <td>53.590476</td>\n",
       "      <td>53.290677</td>\n",
       "    </tr>\n",
       "    <tr>\n",
       "      <th>2</th>\n",
       "      <td>699</td>\n",
       "      <td>Aboriginal and Torres Strait Islander educatio...</td>\n",
       "      <td>Female</td>\n",
       "      <td>1386</td>\n",
       "      <td>40926</td>\n",
       "      <td>NaN</td>\n",
       "      <td>NaN</td>\n",
       "      <td>NaN</td>\n",
       "      <td>NaN</td>\n",
       "      <td>NaN</td>\n",
       "      <td>...</td>\n",
       "      <td>NaN</td>\n",
       "      <td>NaN</td>\n",
       "      <td>NaN</td>\n",
       "      <td>NaN</td>\n",
       "      <td>NaN</td>\n",
       "      <td>NaN</td>\n",
       "      <td>NaN</td>\n",
       "      <td>NaN</td>\n",
       "      <td>NaN</td>\n",
       "      <td>NaN</td>\n",
       "    </tr>\n",
       "    <tr>\n",
       "      <th>3</th>\n",
       "      <td>828</td>\n",
       "      <td>Aboriginal and Torres Strait Islander educatio...</td>\n",
       "      <td>Male</td>\n",
       "      <td>636</td>\n",
       "      <td>44077</td>\n",
       "      <td>NaN</td>\n",
       "      <td>NaN</td>\n",
       "      <td>NaN</td>\n",
       "      <td>NaN</td>\n",
       "      <td>NaN</td>\n",
       "      <td>...</td>\n",
       "      <td>NaN</td>\n",
       "      <td>NaN</td>\n",
       "      <td>NaN</td>\n",
       "      <td>NaN</td>\n",
       "      <td>NaN</td>\n",
       "      <td>NaN</td>\n",
       "      <td>NaN</td>\n",
       "      <td>NaN</td>\n",
       "      <td>NaN</td>\n",
       "      <td>NaN</td>\n",
       "    </tr>\n",
       "    <tr>\n",
       "      <th>4</th>\n",
       "      <td>641</td>\n",
       "      <td>Aboriginal and Torres Strait Islander health l...</td>\n",
       "      <td>Female</td>\n",
       "      <td>1878</td>\n",
       "      <td>43545</td>\n",
       "      <td>NaN</td>\n",
       "      <td>NaN</td>\n",
       "      <td>NaN</td>\n",
       "      <td>NaN</td>\n",
       "      <td>NaN</td>\n",
       "      <td>...</td>\n",
       "      <td>NaN</td>\n",
       "      <td>NaN</td>\n",
       "      <td>NaN</td>\n",
       "      <td>NaN</td>\n",
       "      <td>NaN</td>\n",
       "      <td>NaN</td>\n",
       "      <td>NaN</td>\n",
       "      <td>NaN</td>\n",
       "      <td>NaN</td>\n",
       "      <td>NaN</td>\n",
       "    </tr>\n",
       "  </tbody>\n",
       "</table>\n",
       "<p>5 rows × 21 columns</p>\n",
       "</div>"
      ],
      "text/plain": [
       "   Gender_Rank                                         Occupation  Gender  \\\n",
       "0          795  Abattoir process worker Meat process worker Me...  Female   \n",
       "1          881  Abattoir process worker Meat process worker Me...    Male   \n",
       "2          699  Aboriginal and Torres Strait Islander educatio...  Female   \n",
       "3          828  Aboriginal and Torres Strait Islander educatio...    Male   \n",
       "4          641  Aboriginal and Torres Strait Islander health l...  Female   \n",
       "\n",
       "   No.of_Individuals  $Average_Taxable_Income    Sex       2010       2011  \\\n",
       "0               5961                    36359    Men  82.897626  82.842008   \n",
       "1              17241                    40954  Women  69.971300  70.454033   \n",
       "2               1386                    40926    NaN        NaN        NaN   \n",
       "3                636                    44077    NaN        NaN        NaN   \n",
       "4               1878                    43545    NaN        NaN        NaN   \n",
       "\n",
       "        2012       2013    ...           2015       2016    Sex       2010  \\\n",
       "0  82.482942  82.391038    ...      82.702119  82.322065    Men  83.495533   \n",
       "1  70.391816  70.450406    ...      71.232197  71.598317  Women  54.251150   \n",
       "2        NaN        NaN    ...            NaN        NaN    NaN        NaN   \n",
       "3        NaN        NaN    ...            NaN        NaN    NaN        NaN   \n",
       "4        NaN        NaN    ...            NaN        NaN    NaN        NaN   \n",
       "\n",
       "        2011       2012       2013       2014       2015       2016  \n",
       "0  83.822759  83.823291  83.148712  82.713938  82.350051  81.348125  \n",
       "1  54.426512  54.427425  54.056010  53.687770  53.590476  53.290677  \n",
       "2        NaN        NaN        NaN        NaN        NaN        NaN  \n",
       "3        NaN        NaN        NaN        NaN        NaN        NaN  \n",
       "4        NaN        NaN        NaN        NaN        NaN        NaN  \n",
       "\n",
       "[5 rows x 21 columns]"
      ]
     },
     "execution_count": 104,
     "metadata": {},
     "output_type": "execute_result"
    }
   ],
   "source": [
    "result.head()"
   ]
  },
  {
   "cell_type": "markdown",
   "metadata": {},
   "source": [
    "# Filling out the Missing and Null Values"
   ]
  },
  {
   "cell_type": "code",
   "execution_count": 106,
   "metadata": {
    "scrolled": true
   },
   "outputs": [
    {
     "data": {
      "text/html": [
       "<div>\n",
       "<style>\n",
       "    .dataframe thead tr:only-child th {\n",
       "        text-align: right;\n",
       "    }\n",
       "\n",
       "    .dataframe thead th {\n",
       "        text-align: left;\n",
       "    }\n",
       "\n",
       "    .dataframe tbody tr th {\n",
       "        vertical-align: top;\n",
       "    }\n",
       "</style>\n",
       "<table border=\"1\" class=\"dataframe\">\n",
       "  <thead>\n",
       "    <tr style=\"text-align: right;\">\n",
       "      <th></th>\n",
       "      <th>Gender_Rank</th>\n",
       "      <th>Occupation</th>\n",
       "      <th>Gender</th>\n",
       "      <th>No.of_Individuals</th>\n",
       "      <th>$Average_Taxable_Income</th>\n",
       "      <th>Sex</th>\n",
       "      <th>2010</th>\n",
       "      <th>2011</th>\n",
       "      <th>2012</th>\n",
       "      <th>2013</th>\n",
       "      <th>...</th>\n",
       "      <th>2015</th>\n",
       "      <th>2016</th>\n",
       "      <th>Sex</th>\n",
       "      <th>2010</th>\n",
       "      <th>2011</th>\n",
       "      <th>2012</th>\n",
       "      <th>2013</th>\n",
       "      <th>2014</th>\n",
       "      <th>2015</th>\n",
       "      <th>2016</th>\n",
       "    </tr>\n",
       "  </thead>\n",
       "  <tbody>\n",
       "    <tr>\n",
       "      <th>0</th>\n",
       "      <td>795</td>\n",
       "      <td>Abattoir process worker Meat process worker Me...</td>\n",
       "      <td>Female</td>\n",
       "      <td>5961</td>\n",
       "      <td>36359</td>\n",
       "      <td>Men</td>\n",
       "      <td>82.897626</td>\n",
       "      <td>82.842008</td>\n",
       "      <td>82.482942</td>\n",
       "      <td>82.391038</td>\n",
       "      <td>...</td>\n",
       "      <td>82.702119</td>\n",
       "      <td>82.322065</td>\n",
       "      <td>Men</td>\n",
       "      <td>83.495533</td>\n",
       "      <td>83.822759</td>\n",
       "      <td>83.823291</td>\n",
       "      <td>83.148712</td>\n",
       "      <td>82.713938</td>\n",
       "      <td>82.350051</td>\n",
       "      <td>81.348125</td>\n",
       "    </tr>\n",
       "    <tr>\n",
       "      <th>1</th>\n",
       "      <td>881</td>\n",
       "      <td>Abattoir process worker Meat process worker Me...</td>\n",
       "      <td>Male</td>\n",
       "      <td>17241</td>\n",
       "      <td>40954</td>\n",
       "      <td>Women</td>\n",
       "      <td>69.971300</td>\n",
       "      <td>70.454033</td>\n",
       "      <td>70.391816</td>\n",
       "      <td>70.450406</td>\n",
       "      <td>...</td>\n",
       "      <td>71.232197</td>\n",
       "      <td>71.598317</td>\n",
       "      <td>Women</td>\n",
       "      <td>54.251150</td>\n",
       "      <td>54.426512</td>\n",
       "      <td>54.427425</td>\n",
       "      <td>54.056010</td>\n",
       "      <td>53.687770</td>\n",
       "      <td>53.590476</td>\n",
       "      <td>53.290677</td>\n",
       "    </tr>\n",
       "    <tr>\n",
       "      <th>2</th>\n",
       "      <td>699</td>\n",
       "      <td>Aboriginal and Torres Strait Islander educatio...</td>\n",
       "      <td>Female</td>\n",
       "      <td>1386</td>\n",
       "      <td>40926</td>\n",
       "      <td>0</td>\n",
       "      <td>0.000000</td>\n",
       "      <td>0.000000</td>\n",
       "      <td>0.000000</td>\n",
       "      <td>0.000000</td>\n",
       "      <td>...</td>\n",
       "      <td>0.000000</td>\n",
       "      <td>0.000000</td>\n",
       "      <td>0</td>\n",
       "      <td>0.000000</td>\n",
       "      <td>0.000000</td>\n",
       "      <td>0.000000</td>\n",
       "      <td>0.000000</td>\n",
       "      <td>0.000000</td>\n",
       "      <td>0.000000</td>\n",
       "      <td>0.000000</td>\n",
       "    </tr>\n",
       "    <tr>\n",
       "      <th>3</th>\n",
       "      <td>828</td>\n",
       "      <td>Aboriginal and Torres Strait Islander educatio...</td>\n",
       "      <td>Male</td>\n",
       "      <td>636</td>\n",
       "      <td>44077</td>\n",
       "      <td>0</td>\n",
       "      <td>0.000000</td>\n",
       "      <td>0.000000</td>\n",
       "      <td>0.000000</td>\n",
       "      <td>0.000000</td>\n",
       "      <td>...</td>\n",
       "      <td>0.000000</td>\n",
       "      <td>0.000000</td>\n",
       "      <td>0</td>\n",
       "      <td>0.000000</td>\n",
       "      <td>0.000000</td>\n",
       "      <td>0.000000</td>\n",
       "      <td>0.000000</td>\n",
       "      <td>0.000000</td>\n",
       "      <td>0.000000</td>\n",
       "      <td>0.000000</td>\n",
       "    </tr>\n",
       "    <tr>\n",
       "      <th>4</th>\n",
       "      <td>641</td>\n",
       "      <td>Aboriginal and Torres Strait Islander health l...</td>\n",
       "      <td>Female</td>\n",
       "      <td>1878</td>\n",
       "      <td>43545</td>\n",
       "      <td>0</td>\n",
       "      <td>0.000000</td>\n",
       "      <td>0.000000</td>\n",
       "      <td>0.000000</td>\n",
       "      <td>0.000000</td>\n",
       "      <td>...</td>\n",
       "      <td>0.000000</td>\n",
       "      <td>0.000000</td>\n",
       "      <td>0</td>\n",
       "      <td>0.000000</td>\n",
       "      <td>0.000000</td>\n",
       "      <td>0.000000</td>\n",
       "      <td>0.000000</td>\n",
       "      <td>0.000000</td>\n",
       "      <td>0.000000</td>\n",
       "      <td>0.000000</td>\n",
       "    </tr>\n",
       "  </tbody>\n",
       "</table>\n",
       "<p>5 rows × 21 columns</p>\n",
       "</div>"
      ],
      "text/plain": [
       "   Gender_Rank                                         Occupation  Gender  \\\n",
       "0          795  Abattoir process worker Meat process worker Me...  Female   \n",
       "1          881  Abattoir process worker Meat process worker Me...    Male   \n",
       "2          699  Aboriginal and Torres Strait Islander educatio...  Female   \n",
       "3          828  Aboriginal and Torres Strait Islander educatio...    Male   \n",
       "4          641  Aboriginal and Torres Strait Islander health l...  Female   \n",
       "\n",
       "   No.of_Individuals  $Average_Taxable_Income    Sex       2010       2011  \\\n",
       "0               5961                    36359    Men  82.897626  82.842008   \n",
       "1              17241                    40954  Women  69.971300  70.454033   \n",
       "2               1386                    40926      0   0.000000   0.000000   \n",
       "3                636                    44077      0   0.000000   0.000000   \n",
       "4               1878                    43545      0   0.000000   0.000000   \n",
       "\n",
       "        2012       2013    ...           2015       2016    Sex       2010  \\\n",
       "0  82.482942  82.391038    ...      82.702119  82.322065    Men  83.495533   \n",
       "1  70.391816  70.450406    ...      71.232197  71.598317  Women  54.251150   \n",
       "2   0.000000   0.000000    ...       0.000000   0.000000      0   0.000000   \n",
       "3   0.000000   0.000000    ...       0.000000   0.000000      0   0.000000   \n",
       "4   0.000000   0.000000    ...       0.000000   0.000000      0   0.000000   \n",
       "\n",
       "        2011       2012       2013       2014       2015       2016  \n",
       "0  83.822759  83.823291  83.148712  82.713938  82.350051  81.348125  \n",
       "1  54.426512  54.427425  54.056010  53.687770  53.590476  53.290677  \n",
       "2   0.000000   0.000000   0.000000   0.000000   0.000000   0.000000  \n",
       "3   0.000000   0.000000   0.000000   0.000000   0.000000   0.000000  \n",
       "4   0.000000   0.000000   0.000000   0.000000   0.000000   0.000000  \n",
       "\n",
       "[5 rows x 21 columns]"
      ]
     },
     "execution_count": 106,
     "metadata": {},
     "output_type": "execute_result"
    }
   ],
   "source": [
    "result.fillna(0).head()"
   ]
  },
  {
   "cell_type": "markdown",
   "metadata": {},
   "source": [
    "# Writing our final dataframe to an Excel File"
   ]
  },
  {
   "cell_type": "code",
   "execution_count": 109,
   "metadata": {
    "collapsed": true
   },
   "outputs": [],
   "source": [
    "result.to_excel('AusGenderPayGap1.xlsx')"
   ]
  }
 ],
 "metadata": {
  "kernelspec": {
   "display_name": "Python 3 (ipykernel)",
   "language": "python",
   "name": "python3"
  },
  "language_info": {
   "codemirror_mode": {
    "name": "ipython",
    "version": 3
   },
   "file_extension": ".py",
   "mimetype": "text/x-python",
   "name": "python",
   "nbconvert_exporter": "python",
   "pygments_lexer": "ipython3",
   "version": "3.11.3"
  }
 },
 "nbformat": 4,
 "nbformat_minor": 2
}
